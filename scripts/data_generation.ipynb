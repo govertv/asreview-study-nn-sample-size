{
 "cells": [
  {
   "cell_type": "code",
   "execution_count": null,
   "metadata": {},
   "outputs": [],
   "source": [
    "import random\n",
    "\n",
    "import pandas as pd\n",
    "import numpy as np"
   ]
  },
  {
   "cell_type": "code",
   "execution_count": null,
   "metadata": {},
   "outputs": [],
   "source": [
    "%cd .."
   ]
  },
  {
   "cell_type": "code",
   "execution_count": null,
   "metadata": {},
   "outputs": [],
   "source": [
    "nudging = pd.read_csv('data/Nagtegaal_2019.csv')\n",
    "software = pd.read_csv('data/Hall_2012.csv')\n",
    "brouwer = pd.read_csv('data/Brouwer_2019.csv')\n",
    "\n",
    "# remove duplicates\n",
    "nudging = nudging[nudging.duplicate_record_id.isna()]\n",
    "software = software[software.duplicate_record_id.isna()]\n",
    "brouwer = brouwer.drop_duplicates(subset=['title','abstract','author'])"
   ]
  },
  {
   "cell_type": "code",
   "execution_count": null,
   "metadata": {},
   "outputs": [],
   "source": [
    "brouwer.rename({'included':'label_included'}, axis=1, inplace=True)\n",
    "brouwer['record_id'] = list(range(1, len(brouwer) + 1))"
   ]
  },
  {
   "cell_type": "code",
   "execution_count": null,
   "metadata": {},
   "outputs": [],
   "source": [
    "def generate_sample_sets(df, output_name, sample_sizes = [200,400], n_prior_sets = 1, shuffle_seed = 10):\n",
    "    # create list of included and excluded indices\n",
    "    incl = list(df[df.label_included == 1].index)\n",
    "    excl = list(df[df.label_included == 0].index)\n",
    "      \n",
    "    # shuffle\n",
    "    random.seed(shuffle_seed)\n",
    "    random.shuffle(incl)\n",
    "    random.shuffle(excl)\n",
    "    \n",
    "    # remove n_prior_sets relevant and irrelevant records from the set to use as priors\n",
    "    priors_incl = df.loc[incl[0:n_prior_sets]].copy()\n",
    "    priors_excl = df.loc[excl[0:n_prior_sets]].copy()\n",
    "    incl = incl[n_prior_sets:]\n",
    "    excl = excl[n_prior_sets:]\n",
    "    \n",
    "    # create dataframes containing the prior combinations\n",
    "    prior_dfs = []\n",
    "    for i in range(0, n_prior_sets):\n",
    "        sub_incl = priors_incl.iloc[i,:].to_frame().transpose()\n",
    "        sub_excl = priors_excl.iloc[i,:].to_frame().transpose()\n",
    "        prior_set = sub_incl.append(sub_excl)\n",
    "        prior_dfs.append(prior_set)\n",
    "    \n",
    "    # number of relevant and irrelevant records in set\n",
    "    n_incl = len(incl)\n",
    "    n_excl = len(excl)\n",
    "    n_total = n_incl + n_excl\n",
    "    \n",
    "    # downsampling\n",
    "    for sample_size in sample_sizes:\n",
    "        sample_n_incl = int(np.round(n_incl / n_total * sample_size))\n",
    "        sample_n_excl = sample_size - sample_n_incl\n",
    "        \n",
    "        df_incl = df.loc[incl[0:sample_n_incl]]\n",
    "        df_excl = df.loc[excl[0:sample_n_excl]]\n",
    "        \n",
    "        for i, prior_df in enumerate(prior_dfs):\n",
    "            temp = prior_df.append(df_incl)\n",
    "            temp = temp.append(df_excl)\n",
    "            temp.record_id = list(range(1, len(temp) + 1))\n",
    "            temp = temp.reset_index(drop=True)\n",
    "            temp.to_csv('output/preprocessed_data/' + output_name + '_s{}_p{}.csv'.format(sample_size, str(i + 1)))"
   ]
  },
  {
   "cell_type": "code",
   "execution_count": null,
   "metadata": {},
   "outputs": [],
   "source": [
    "# generate sampled data sets for nudging dataset\n",
    "generate_sample_sets(nudging, 'nudging', sample_sizes = [200,400,800,1600])"
   ]
  },
  {
   "cell_type": "code",
   "execution_count": null,
   "metadata": {},
   "outputs": [],
   "source": [
    "# generate sampled data sets for software dataset\n",
    "generate_sample_sets(software, 'software', sample_sizes = [200,400,800,1600,3200,6400])"
   ]
  },
  {
   "cell_type": "code",
   "execution_count": null,
   "metadata": {},
   "outputs": [],
   "source": [
    "# generate sampled data sets for brouwer dataset\n",
    "generate_sample_sets(brouwer, 'brouwer', sample_sizes = [1600,3200,6400,12800,25600,48975])"
   ]
  }
 ],
 "metadata": {
  "kernelspec": {
   "display_name": "Python 3",
   "language": "python",
   "name": "python3"
  },
  "language_info": {
   "codemirror_mode": {
    "name": "ipython",
    "version": 3
   },
   "file_extension": ".py",
   "mimetype": "text/x-python",
   "name": "python",
   "nbconvert_exporter": "python",
   "pygments_lexer": "ipython3",
   "version": "3.8.5"
  }
 },
 "nbformat": 4,
 "nbformat_minor": 4
}
