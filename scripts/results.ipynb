{
 "cells": [
  {
   "cell_type": "code",
   "execution_count": null,
   "metadata": {},
   "outputs": [],
   "source": [
    "import pandas as pd\n",
    "import seaborn as sns\n",
    "from matplotlib import rcParams"
   ]
  },
  {
   "cell_type": "code",
   "execution_count": null,
   "metadata": {},
   "outputs": [],
   "source": [
    "%cd .."
   ]
  },
  {
   "cell_type": "code",
   "execution_count": null,
   "metadata": {},
   "outputs": [],
   "source": [
    "metrics = pd.read_csv('output/tables/data_metrics.csv')"
   ]
  },
  {
   "cell_type": "code",
   "execution_count": null,
   "metadata": {},
   "outputs": [],
   "source": [
    "name_str = metrics.iloc[0,0]\n",
    "print(name_str)"
   ]
  },
  {
   "cell_type": "code",
   "execution_count": null,
   "metadata": {},
   "outputs": [],
   "source": [
    "def get_name(dataset_str):\n",
    "    sub = dataset_str.split('/')[2]\n",
    "    subs = sub.split('_')    \n",
    "    return subs[0]\n",
    "\n",
    "def get_size(dataset_str):\n",
    "    sub = dataset_str.split('/')[2]\n",
    "    subs = sub.split('_')    \n",
    "    return int(subs[1][1:])"
   ]
  },
  {
   "cell_type": "code",
   "execution_count": null,
   "metadata": {},
   "outputs": [],
   "source": [
    "get_name(name_str)"
   ]
  },
  {
   "cell_type": "code",
   "execution_count": null,
   "metadata": {},
   "outputs": [],
   "source": [
    "metrics['dataset'] = metrics.dataset_name.apply(get_name) \n",
    "metrics['sample_size'] = metrics.dataset_name.apply(get_size)"
   ]
  },
  {
   "cell_type": "code",
   "execution_count": null,
   "metadata": {},
   "outputs": [],
   "source": [
    "metrics"
   ]
  },
  {
   "cell_type": "code",
   "execution_count": null,
   "metadata": {},
   "outputs": [],
   "source": [
    "metrics.dataset = metrics.dataset.replace('brouwer','depression')"
   ]
  },
  {
   "cell_type": "code",
   "execution_count": null,
   "metadata": {},
   "outputs": [],
   "source": [
    "rcParams['figure.figsize'] = 7,5"
   ]
  },
  {
   "cell_type": "code",
   "execution_count": null,
   "metadata": {},
   "outputs": [],
   "source": [
    "wss95plot = sns.lineplot(data = metrics, x = 'sample_size', y = 'wss95', hue = 'dataset', markers = True, style=\"dataset\")\n",
    "_ = wss95plot.set(xscale = 'log')\n",
    "_ = wss95plot.set(ylim = (0,100))\n",
    "_ = wss95plot.set(ylabel = 'WSS@95')\n",
    "_ = wss95plot.set(xlabel = 'Log (Sample size)')\n",
    "_ = wss95plot.set(title = 'WSS@95 at different sample sizes')\n",
    "fig = wss95plot.get_figure()\n",
    "fig.savefig('output/figures/wss95.png') "
   ]
  },
  {
   "cell_type": "code",
   "execution_count": null,
   "metadata": {},
   "outputs": [],
   "source": [
    "wss100plot = sns.lineplot(data = metrics, x = 'sample_size', y = 'wss100', hue = 'dataset', markers = True, style=\"dataset\")\n",
    "_ = wss100plot.set(xscale='log')\n",
    "_ = wss100plot.set(ylim = (0,100))\n",
    "_ = wss100plot.set(ylabel = 'WSS@100')\n",
    "_ = wss100plot.set(xlabel = 'Log (Sample size)')\n",
    "_ = wss100plot.set(title = 'WSS@100 at different sample sizes')\n",
    "fig = wss100plot.get_figure()\n",
    "fig.savefig('output/figures/wss100.png') "
   ]
  },
  {
   "cell_type": "code",
   "execution_count": null,
   "metadata": {},
   "outputs": [],
   "source": [
    "rrf10plot = sns.lineplot(data = metrics, x = 'sample_size', y = 'rrf10', hue = 'dataset', markers = True, style=\"dataset\")\n",
    "_ = rrf10plot.set(xscale='log')\n",
    "_ = rrf10plot.set(ylim = (0,105))\n",
    "_ = rrf10plot.set(ylabel = 'RRF@10')\n",
    "_ = rrf10plot.set(xlabel = 'Log (Sample size)')\n",
    "_ = rrf10plot.set(title = 'RRF@10 at different sample sizes')\n",
    "fig = rrf10plot.get_figure()\n",
    "fig.savefig('output/figures/rrf10.png') "
   ]
  },
  {
   "cell_type": "code",
   "execution_count": null,
   "metadata": {},
   "outputs": [],
   "source": []
  }
 ],
 "metadata": {
  "kernelspec": {
   "display_name": "Python 3",
   "language": "python",
   "name": "python3"
  },
  "language_info": {
   "codemirror_mode": {
    "name": "ipython",
    "version": 3
   },
   "file_extension": ".py",
   "mimetype": "text/x-python",
   "name": "python",
   "nbconvert_exporter": "python",
   "pygments_lexer": "ipython3",
   "version": "3.8.5"
  }
 },
 "nbformat": 4,
 "nbformat_minor": 4
}
